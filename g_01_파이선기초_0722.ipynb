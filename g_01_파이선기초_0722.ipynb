{
  "nbformat": 4,
  "nbformat_minor": 0,
  "metadata": {
    "kernelspec": {
      "display_name": "Python 3",
      "language": "python",
      "name": "python3"
    },
    "language_info": {
      "codemirror_mode": {
        "name": "ipython",
        "version": 3
      },
      "file_extension": ".py",
      "mimetype": "text/x-python",
      "name": "python",
      "nbconvert_exporter": "python",
      "pygments_lexer": "ipython3",
      "version": "3.6.6"
    },
    "colab": {
      "name": "g_01_파이선기초_0722.ipynb",
      "provenance": [],
      "collapsed_sections": [
        "v_cZd_gQfMqh"
      ],
      "include_colab_link": true
    }
  },
  "cells": [
    {
      "cell_type": "markdown",
      "metadata": {
        "id": "view-in-github",
        "colab_type": "text"
      },
      "source": [
        "<a href=\"https://colab.research.google.com/github/jet345/LG_AIClass/blob/master/g_01_%E1%84%91%E1%85%A1%E1%84%8B%E1%85%B5%E1%84%89%E1%85%A5%E1%86%AB%E1%84%80%E1%85%B5%E1%84%8E%E1%85%A9_0722.ipynb\" target=\"_parent\"><img src=\"https://colab.research.google.com/assets/colab-badge.svg\" alt=\"Open In Colab\"/></a>"
      ]
    },
    {
      "cell_type": "markdown",
      "metadata": {
        "id": "iOhdJTmfkTkb",
        "colab_type": "text"
      },
      "source": [
        "# 파이선과 쥬피터 노트북\n",
        "# 이 프로그램을 \"사본 저장\"한 후에 사용해야 함\n",
        "-  '파일', '드라이브에 사본 저장...'\n",
        "- 이름은 원하는대로 변경할 수 있음\n",
        "- 사본은 본인의 구글드라이브에 '내 드라이브', 'Colab Notebooks' 폴더에 자동 저장됨 \n",
        "\n",
        "## 파이선 기초 문법\n",
        "### 파이선 기본 변수\n",
        "- 정수(int), 부동소수(float), 문자(strings), 불리언(True/False),  \n",
        "- 리스트(list), 배열(array), 튜풀(tuple), 사전(dictionary), \n",
        "- range, arange\n",
        "- if, for, def(함수정의)\n",
        "## 시각화\n",
        "- matplotlib, plot, scatter\n",
        "\n",
        "## 파일 다루기\n"
      ]
    },
    {
      "cell_type": "markdown",
      "metadata": {
        "id": "tFnOyiRkKaoZ",
        "colab_type": "text"
      },
      "source": [
        "# 쥬피터 사용\n",
        "- colab 사용 (구글 클라우드) \n",
        "- 자신의 PC에서는 아나콘다(anaconda)를 설치한 후 jupyter notebook 프로그램 실행\n",
        "- colab에서 PC로 다운로드하려면 '파일' - '.ipynb 다운로드' 선택\n",
        "- PC의 파일을 colab에서 읽으려면 '파일' - '노트 업로드' 선택"
      ]
    },
    {
      "cell_type": "markdown",
      "metadata": {
        "id": "fjkX2ae7Kaoa",
        "colab_type": "text"
      },
      "source": [
        "## 쥬피터 팁\n",
        "\n",
        "- 각 셀은 프로그램 코드 또는 문서(마크업 문서 지원) 둘 중 하나로 사용된다.\n",
        "- 셀을 실행하려면 Shift + Enter 를 입력한다 (셀 실행후 커서가 다음 셀로 이동)\n",
        "- 셀을 Ctrl + Enter로 실행하면 셀 실행 후에 현재의 셀에 남아 있는다. \n",
        "### 코랩에서 셀에 대한 명령어 (ctrl + m + ...)\n",
        "- h  help\n",
        "- a  위에 셀 추가 (above)\n",
        "- b  아래에 셀 추가 (below)\n",
        "- d  셀 삭제 (delete)\n",
        "- m  문서 모드로 전환 (mark up)\n",
        "- y  code 모드로 전환\n",
        "- o  출력 보이기/안보이기 (output)\n",
        "- '-' 셀 둘로 나누기\n",
        "- 'shift' 두 개 이상의 셀 선택 후에 (ctrl + 클릭으로) 셀 합치기\n",
        "\n",
        "### PC에서 사용할 때\n",
        "-  편집창 아닌 명령 모드(셀 위부를 클릭) 에서 ctrl + m 없이 단축 문자만 입력 (a, b, x, o 등)\n",
        "-  셀을 나눌 때는 ctrl + shift + '-'\n",
        "-  바로 아래의 셀을 합칠 때는 ctrl + shift + m\n"
      ]
    },
    {
      "cell_type": "markdown",
      "metadata": {
        "id": "YAV63u1bhSDk",
        "colab_type": "text"
      },
      "source": [
        ""
      ]
    },
    {
      "cell_type": "markdown",
      "metadata": {
        "id": "X3dBIDyofMpX",
        "colab_type": "text"
      },
      "source": [
        "# 파이선 기초 문법"
      ]
    },
    {
      "cell_type": "code",
      "metadata": {
        "id": "QosL1F6CfMpY",
        "colab_type": "code",
        "colab": {},
        "outputId": "265957ec-434a-4637-f4cf-56336667a62e"
      },
      "source": [
        "x=3\n",
        "x"
      ],
      "execution_count": null,
      "outputs": [
        {
          "output_type": "execute_result",
          "data": {
            "text/plain": [
              "3"
            ]
          },
          "metadata": {
            "tags": []
          },
          "execution_count": 1
        }
      ]
    },
    {
      "cell_type": "code",
      "metadata": {
        "id": "nEkdbX5lfMpf",
        "colab_type": "code",
        "colab": {},
        "outputId": "0295446d-9d7e-4bc0-8cf0-020b53228314"
      },
      "source": [
        "y = 0.5\n",
        "x+y"
      ],
      "execution_count": null,
      "outputs": [
        {
          "output_type": "execute_result",
          "data": {
            "text/plain": [
              "3.5"
            ]
          },
          "metadata": {
            "tags": []
          },
          "execution_count": 2
        }
      ]
    },
    {
      "cell_type": "code",
      "metadata": {
        "id": "jL1ZtMbTfMpj",
        "colab_type": "code",
        "colab": {},
        "outputId": "5877fc9b-a24f-4c97-cd7a-a5eac34580cc"
      },
      "source": [
        "print(x)"
      ],
      "execution_count": null,
      "outputs": [
        {
          "output_type": "stream",
          "text": [
            "3\n"
          ],
          "name": "stdout"
        }
      ]
    },
    {
      "cell_type": "code",
      "metadata": {
        "id": "VTIqoTRSfMpm",
        "colab_type": "code",
        "colab": {},
        "outputId": "74472922-5f3d-465d-d640-6f2853494804"
      },
      "source": [
        "type(x), type(y) #튜플, 상수형 데이터 목록의 나열"
      ],
      "execution_count": null,
      "outputs": [
        {
          "output_type": "execute_result",
          "data": {
            "text/plain": [
              "(int, float)"
            ]
          },
          "metadata": {
            "tags": []
          },
          "execution_count": 4
        }
      ]
    },
    {
      "cell_type": "code",
      "metadata": {
        "id": "pMcOWcHDYjS_",
        "colab_type": "code",
        "colab": {
          "base_uri": "https://localhost:8080/",
          "height": 35
        },
        "outputId": "1086c344-9b49-4142-cc2b-1c07fd464b1b"
      },
      "source": [
        "a=5\n",
        "b=6\n",
        "a\n",
        "b #해당 코드 실행시 b의 값만 보여준다\n",
        "a,b #해당 코드를 실행해야 a,b값을 동시에 보여준다"
      ],
      "execution_count": 6,
      "outputs": [
        {
          "output_type": "execute_result",
          "data": {
            "text/plain": [
              "(5, 6)"
            ]
          },
          "metadata": {
            "tags": []
          },
          "execution_count": 6
        }
      ]
    },
    {
      "cell_type": "code",
      "metadata": {
        "scrolled": false,
        "id": "xaxF7s5ufMpr",
        "colab_type": "code",
        "colab": {},
        "outputId": "cb9fa748-3209-4ec6-efdd-379bf1aa4240"
      },
      "source": [
        "print(\"문자열을 출력\")\n",
        "print('따옴표는 하나도 됩니다')"
      ],
      "execution_count": null,
      "outputs": [
        {
          "output_type": "stream",
          "text": [
            "문자열을 출력\n",
            "따옴표는 하나도 됩니다\n"
          ],
          "name": "stdout"
        }
      ]
    },
    {
      "cell_type": "code",
      "metadata": {
        "id": "li-KXSyVfMpv",
        "colab_type": "code",
        "colab": {
          "base_uri": "https://localhost:8080/",
          "height": 35
        },
        "outputId": "e3501b88-565c-4500-b4df-0a12b9725c2e"
      },
      "source": [
        "a = True\n",
        "b = False\n",
        "a & b"
      ],
      "execution_count": 9,
      "outputs": [
        {
          "output_type": "execute_result",
          "data": {
            "text/plain": [
              "False"
            ]
          },
          "metadata": {
            "tags": []
          },
          "execution_count": 9
        }
      ]
    },
    {
      "cell_type": "code",
      "metadata": {
        "id": "8hYf20fffMpz",
        "colab_type": "code",
        "colab": {
          "base_uri": "https://localhost:8080/",
          "height": 35
        },
        "outputId": "9e6ee938-5e5f-40c1-a1b6-f1a5a74c1277"
      },
      "source": [
        "a + 3 + b"
      ],
      "execution_count": 7,
      "outputs": [
        {
          "output_type": "execute_result",
          "data": {
            "text/plain": [
              "14"
            ]
          },
          "metadata": {
            "tags": []
          },
          "execution_count": 7
        }
      ]
    },
    {
      "cell_type": "code",
      "metadata": {
        "id": "WkZXtkAzfMp2",
        "colab_type": "code",
        "colab": {
          "base_uri": "https://localhost:8080/",
          "height": 35
        },
        "outputId": "c5fd53f6-bbef-42e2-e914-87cf8f8ada0d"
      },
      "source": [
        "a + a + a + a + a + 10"
      ],
      "execution_count": 8,
      "outputs": [
        {
          "output_type": "execute_result",
          "data": {
            "text/plain": [
              "35"
            ]
          },
          "metadata": {
            "tags": []
          },
          "execution_count": 8
        }
      ]
    },
    {
      "cell_type": "markdown",
      "metadata": {
        "id": "SR1EuTvjfMp7",
        "colab_type": "text"
      },
      "source": [
        "### 리스트\n",
        "- 여러 항목의 집합체로 각 항목의 타입은 서로 달라도 된다.\n",
        "- 리스트를 만들려면 대괄호 [ ]를 사용하고 각 항목을 ','로 구분한다"
      ]
    },
    {
      "cell_type": "code",
      "metadata": {
        "id": "vfmktw7gfMp8",
        "colab_type": "code",
        "colab": {
          "base_uri": "https://localhost:8080/",
          "height": 35
        },
        "outputId": "0fe8f5d7-0744-4597-9b9e-02172c8735a8"
      },
      "source": [
        "item_2 = list([1,2,3]) #item_2 = [1,2,3] 동일한 코드\n",
        "item_2"
      ],
      "execution_count": 2,
      "outputs": [
        {
          "output_type": "execute_result",
          "data": {
            "text/plain": [
              "[1, 2, 3]"
            ]
          },
          "metadata": {
            "tags": []
          },
          "execution_count": 2
        }
      ]
    },
    {
      "cell_type": "code",
      "metadata": {
        "id": "aJDVIfuifMqA",
        "colab_type": "code",
        "colab": {
          "base_uri": "https://localhost:8080/",
          "height": 35
        },
        "outputId": "89464e11-0048-4012-9264-fe26191749d2"
      },
      "source": [
        "items = [1, 2, 3, 4, 5, 'kim']\n",
        "items*2"
      ],
      "execution_count": 1,
      "outputs": [
        {
          "output_type": "execute_result",
          "data": {
            "text/plain": [
              "[1, 2, 3, 4, 5, 'kim', 1, 2, 3, 4, 5, 'kim']"
            ]
          },
          "metadata": {
            "tags": []
          },
          "execution_count": 1
        }
      ]
    },
    {
      "cell_type": "markdown",
      "metadata": {
        "id": "8DkJPpAEt4Dz",
        "colab_type": "text"
      },
      "source": [
        ""
      ]
    },
    {
      "cell_type": "code",
      "metadata": {
        "id": "7aRoN1cFZHTO",
        "colab_type": "code",
        "colab": {
          "base_uri": "https://localhost:8080/",
          "height": 35
        },
        "outputId": "a9f885eb-eb7c-43dc-df9d-5d7a8962597b"
      },
      "source": [
        "a=[1]\n",
        "b=[0]\n",
        "a*10 #1이 10개들어가있는 List 생성 시\n",
        "a*10 + b*10"
      ],
      "execution_count": 16,
      "outputs": [
        {
          "output_type": "execute_result",
          "data": {
            "text/plain": [
              "[1, 1, 1, 1, 1, 1, 1, 1, 1, 1, 0, 0, 0, 0, 0, 0, 0, 0, 0, 0]"
            ]
          },
          "metadata": {
            "tags": []
          },
          "execution_count": 16
        }
      ]
    },
    {
      "cell_type": "code",
      "metadata": {
        "id": "jFTYWCC_ZXx9",
        "colab_type": "code",
        "colab": {
          "base_uri": "https://localhost:8080/",
          "height": 35
        },
        "outputId": "9792e0f9-6f1d-47a2-8df7-721572f7cdd5"
      },
      "source": [
        "lst = [x*10 for x in range(10)]\n",
        "lst"
      ],
      "execution_count": 24,
      "outputs": [
        {
          "output_type": "execute_result",
          "data": {
            "text/plain": [
              "[0, 10, 20, 30, 40, 50, 60, 70, 80, 90]"
            ]
          },
          "metadata": {
            "tags": []
          },
          "execution_count": 24
        }
      ]
    },
    {
      "cell_type": "code",
      "metadata": {
        "id": "FwZ3CHrpufTf",
        "colab_type": "code",
        "colab": {
          "base_uri": "https://localhost:8080/",
          "height": 35
        },
        "outputId": "7831e55c-6537-459d-8c39-ee0d4b40e4cb"
      },
      "source": [
        "lst.append(20000)\n",
        "lst"
      ],
      "execution_count": 25,
      "outputs": [
        {
          "output_type": "execute_result",
          "data": {
            "text/plain": [
              "[0, 10, 20, 30, 40, 50, 60, 70, 80, 90, 20000]"
            ]
          },
          "metadata": {
            "tags": []
          },
          "execution_count": 25
        }
      ]
    },
    {
      "cell_type": "code",
      "metadata": {
        "id": "54v-f8W8fMqD",
        "colab_type": "code",
        "colab": {},
        "outputId": "b52ca47c-248f-4829-c033-f5af94893d0b"
      },
      "source": [
        "# 리스트의 길이\n",
        "len(items)"
      ],
      "execution_count": null,
      "outputs": [
        {
          "output_type": "execute_result",
          "data": {
            "text/plain": [
              "6"
            ]
          },
          "metadata": {
            "tags": []
          },
          "execution_count": 11
        }
      ]
    },
    {
      "cell_type": "code",
      "metadata": {
        "id": "NCikFr1afMqG",
        "colab_type": "code",
        "colab": {},
        "outputId": "bd91297a-d9b2-4173-9ff9-deb51da01bf5"
      },
      "source": [
        "# 리스트에서 위치 번호는 '1'이 아니라 '0'부터 시작한다.\n",
        "items[0]"
      ],
      "execution_count": null,
      "outputs": [
        {
          "output_type": "execute_result",
          "data": {
            "text/plain": [
              "1"
            ]
          },
          "metadata": {
            "tags": []
          },
          "execution_count": 12
        }
      ]
    },
    {
      "cell_type": "code",
      "metadata": {
        "scrolled": true,
        "id": "pIgg8MmlfMqJ",
        "colab_type": "code",
        "colab": {},
        "outputId": "5d71e0f9-9462-4cd0-f2b5-a083e26ed07d"
      },
      "source": [
        "# 3번째 항목을 값을 바꾸었다.\n",
        "items[2]=100\n",
        "items"
      ],
      "execution_count": null,
      "outputs": [
        {
          "output_type": "execute_result",
          "data": {
            "text/plain": [
              "[1, 2, 100, 4, 5, 'kim']"
            ]
          },
          "metadata": {
            "tags": []
          },
          "execution_count": 13
        }
      ]
    },
    {
      "cell_type": "code",
      "metadata": {
        "id": "PZNFeB9hfMqN",
        "colab_type": "code",
        "colab": {},
        "outputId": "3c15b21b-5c03-4a17-83f7-d3c805cac456"
      },
      "source": [
        "items[:2]"
      ],
      "execution_count": null,
      "outputs": [
        {
          "output_type": "execute_result",
          "data": {
            "text/plain": [
              "[1, 2]"
            ]
          },
          "metadata": {
            "tags": []
          },
          "execution_count": 14
        }
      ]
    },
    {
      "cell_type": "code",
      "metadata": {
        "id": "CCZqGacyfMqR",
        "colab_type": "code",
        "colab": {},
        "outputId": "2b8132ca-9cc8-4e38-ed45-3a1e8d93c8ca"
      },
      "source": [
        "# 뒤에서부터 인덱싱할 때는 '-' 를 사용한다.\n",
        "items[-1]"
      ],
      "execution_count": null,
      "outputs": [
        {
          "output_type": "execute_result",
          "data": {
            "text/plain": [
              "'kim'"
            ]
          },
          "metadata": {
            "tags": []
          },
          "execution_count": 15
        }
      ]
    },
    {
      "cell_type": "code",
      "metadata": {
        "id": "RmIGHOezfMqW",
        "colab_type": "code",
        "colab": {},
        "outputId": "23f5a32b-013b-45c0-be0c-ec6138a22698"
      },
      "source": [
        "items[-2]"
      ],
      "execution_count": null,
      "outputs": [
        {
          "output_type": "execute_result",
          "data": {
            "text/plain": [
              "5"
            ]
          },
          "metadata": {
            "tags": []
          },
          "execution_count": 16
        }
      ]
    },
    {
      "cell_type": "code",
      "metadata": {
        "id": "PJOF9IuZfMqZ",
        "colab_type": "code",
        "colab": {},
        "outputId": "b8cea724-8db4-49da-8716-c2fd4258f6d4"
      },
      "source": [
        "# 리스트의 일부 구간만 얻으려면 슬라이스(slice) ':'를 사용한다\n",
        "items[2:]"
      ],
      "execution_count": null,
      "outputs": [
        {
          "output_type": "execute_result",
          "data": {
            "text/plain": [
              "[100, 4, 5, 'kim']"
            ]
          },
          "metadata": {
            "tags": []
          },
          "execution_count": 17
        }
      ]
    },
    {
      "cell_type": "code",
      "metadata": {
        "id": "pGiDaZPlfMqb",
        "colab_type": "code",
        "colab": {},
        "outputId": "eea78958-9f8e-4b20-8d25-6105e20997b8"
      },
      "source": [
        "items[2:]"
      ],
      "execution_count": null,
      "outputs": [
        {
          "output_type": "execute_result",
          "data": {
            "text/plain": [
              "[100, 4, 5, 'kim']"
            ]
          },
          "metadata": {
            "tags": []
          },
          "execution_count": 18
        }
      ]
    },
    {
      "cell_type": "code",
      "metadata": {
        "id": "XpSrOjU2fMqe",
        "colab_type": "code",
        "colab": {},
        "outputId": "682d1a04-f04c-4f7f-a8ee-a3e44f7765c3"
      },
      "source": [
        "items.append('park'); items"
      ],
      "execution_count": null,
      "outputs": [
        {
          "output_type": "execute_result",
          "data": {
            "text/plain": [
              "[1, 2, 100, 4, 5, 'kim', 'park']"
            ]
          },
          "metadata": {
            "tags": []
          },
          "execution_count": 19
        }
      ]
    },
    {
      "cell_type": "markdown",
      "metadata": {
        "id": "v_cZd_gQfMqh",
        "colab_type": "text"
      },
      "source": [
        "### 튜플 (tuple)\n",
        "- 튜플은 리스트처럼 여러 항목의 집합을 담을 수 있는데 리스트와 달리 튜플의 내용은 '상수'로 취급되어 값을 바꿀 수 없다\n",
        "- 튜플을 만들려면 소괄호( )를 사용하여 만들거나 , 로 구분하여 나열한다."
      ]
    },
    {
      "cell_type": "code",
      "metadata": {
        "id": "FWh2t30OfMqi",
        "colab_type": "code",
        "colab": {},
        "outputId": "07768f3c-c5fc-4107-f609-9ce2d3d29036"
      },
      "source": [
        "my_tuple = (1, 2, 3)\n",
        "your_tuple = 4, 5,\"hello\"\n",
        "print(my_tuple + your_tuple)"
      ],
      "execution_count": null,
      "outputs": [
        {
          "output_type": "stream",
          "text": [
            "(1, 2, 3, 4, 5, 'hello')\n"
          ],
          "name": "stdout"
        }
      ]
    },
    {
      "cell_type": "code",
      "metadata": {
        "id": "4fKitRN3fMql",
        "colab_type": "code",
        "colab": {}
      },
      "source": [
        "a, b, c = 3, 4, 100"
      ],
      "execution_count": null,
      "outputs": []
    },
    {
      "cell_type": "code",
      "metadata": {
        "id": "SnkI1ATifMqo",
        "colab_type": "code",
        "colab": {},
        "outputId": "2c52faaa-ab27-4b6b-f64f-21ffa834e7ea"
      },
      "source": [
        "print(a)\n",
        "print(b)\n",
        "print(c)"
      ],
      "execution_count": null,
      "outputs": [
        {
          "output_type": "stream",
          "text": [
            "3\n",
            "4\n",
            "100\n"
          ],
          "name": "stdout"
        }
      ]
    },
    {
      "cell_type": "markdown",
      "metadata": {
        "id": "yynomsnffMqr",
        "colab_type": "text"
      },
      "source": [
        "### 사전 (Dictionaries)\n",
        "- 딕셔너리로 키-값 조합 형태의 리스트를 만들 수 있다. \n",
        "- 딕셔너리에서는 항목을 찾을 때 키를 사용한다\n",
        "- 딕셔너너리에서 저장된 순서는 중요시하지 않는다.\n",
        "- 딕셔너리는 중괄호 {  } 로 만든다.\n",
        "- 간이형 데이터"
      ]
    },
    {
      "cell_type": "code",
      "metadata": {
        "id": "M9BYH2N3fMqs",
        "colab_type": "code",
        "colab": {
          "base_uri": "https://localhost:8080/",
          "height": 35
        },
        "outputId": "0b6c1b7f-94d2-421d-aa85-44e03fae328d"
      },
      "source": [
        "my_dict = {'grade': 3,'age': 21,'name': \"kim\"  }\n",
        "print(my_dict['age']) "
      ],
      "execution_count": 26,
      "outputs": [
        {
          "output_type": "stream",
          "text": [
            "21\n"
          ],
          "name": "stdout"
        }
      ]
    },
    {
      "cell_type": "code",
      "metadata": {
        "id": "9a0FYzAovhHV",
        "colab_type": "code",
        "colab": {
          "base_uri": "https://localhost:8080/",
          "height": 35
        },
        "outputId": "24a6e935-08c2-4386-c831-0229075ffc05"
      },
      "source": [
        "result = {}\n",
        "result['7/22'] = 0.97\n",
        "result"
      ],
      "execution_count": 27,
      "outputs": [
        {
          "output_type": "execute_result",
          "data": {
            "text/plain": [
              "{'7/22': 0.97}"
            ]
          },
          "metadata": {
            "tags": []
          },
          "execution_count": 27
        }
      ]
    },
    {
      "cell_type": "code",
      "metadata": {
        "scrolled": true,
        "id": "knKE289jfMqv",
        "colab_type": "code",
        "colab": {},
        "outputId": "f67dbaee-fcff-4724-f600-85ee933b3067"
      },
      "source": [
        "print(my_dict.keys())\n",
        "print(my_dict.values())\n",
        "print(my_dict.items()) "
      ],
      "execution_count": null,
      "outputs": [
        {
          "output_type": "stream",
          "text": [
            "dict_keys(['grade', 'age', 'name'])\n",
            "dict_values([3, 21, 'kim'])\n",
            "dict_items([('grade', 3), ('age', 21), ('name', 'kim')])\n"
          ],
          "name": "stdout"
        }
      ]
    },
    {
      "cell_type": "code",
      "metadata": {
        "id": "ShT8ABivfMqz",
        "colab_type": "code",
        "colab": {},
        "outputId": "480ab442-8cb2-4f07-a224-631dcdbb5495"
      },
      "source": [
        "my_dict['name'] = 'lee'\n",
        "my_dict['name']"
      ],
      "execution_count": null,
      "outputs": [
        {
          "output_type": "execute_result",
          "data": {
            "text/plain": [
              "'lee'"
            ]
          },
          "metadata": {
            "tags": []
          },
          "execution_count": 25
        }
      ]
    },
    {
      "cell_type": "code",
      "metadata": {
        "id": "oWqpat80fMq7",
        "colab_type": "code",
        "colab": {},
        "outputId": "5617803c-c7ec-40a3-a06f-073204c3c7ae"
      },
      "source": [
        "x = range(1,20,2)\n",
        "for i in x:\n",
        "    print(i*10)"
      ],
      "execution_count": null,
      "outputs": [
        {
          "output_type": "stream",
          "text": [
            "10\n",
            "30\n",
            "50\n",
            "70\n",
            "90\n",
            "110\n",
            "130\n",
            "150\n",
            "170\n",
            "190\n"
          ],
          "name": "stdout"
        }
      ]
    },
    {
      "cell_type": "code",
      "metadata": {
        "id": "HnyNqFR2fMq-",
        "colab_type": "code",
        "colab": {},
        "outputId": "855d39fb-39f3-41b9-bf2f-9ca5f958ce27"
      },
      "source": [
        "list_2 = [x*10 for x in range(5)] \n",
        "print(list_2) # [0, 10, 20, 30, 40]"
      ],
      "execution_count": null,
      "outputs": [
        {
          "output_type": "stream",
          "text": [
            "[0, 10, 20, 30, 40]\n"
          ],
          "name": "stdout"
        }
      ]
    },
    {
      "cell_type": "code",
      "metadata": {
        "id": "VLrsr0ktfMrB",
        "colab_type": "code",
        "colab": {},
        "outputId": "a22ddf5d-a7a7-48e5-d45b-db4dc1729a11"
      },
      "source": [
        "x=17\n",
        "if x > 10:\n",
        "    print(\"x > 10\") \n",
        "    print('---------')\n",
        "elif x > 3:\n",
        "    print(\"10 >= x < 3\") \n",
        "else:\n",
        "    print(\" x <= 3\")\n",
        " "
      ],
      "execution_count": null,
      "outputs": [
        {
          "output_type": "stream",
          "text": [
            "x > 10\n",
            "---------\n"
          ],
          "name": "stdout"
        }
      ]
    },
    {
      "cell_type": "markdown",
      "metadata": {
        "id": "zd5EnJeQfMrE",
        "colab_type": "text"
      },
      "source": [
        "### for 루프\n",
        "\n",
        "- 동작을 반복할 때 for 루프를 사용한다\n",
        "- for 문장의 끝에는 ':'가 있어야 하며 for 문이 적용되는 블록(block)은 반드시 들여쓰기 (indentation)을 해야 한다. "
      ]
    },
    {
      "cell_type": "code",
      "metadata": {
        "id": "VdFj2eJKfMrF",
        "colab_type": "code",
        "colab": {}
      },
      "source": [
        "items = [ 1, 5, 100]"
      ],
      "execution_count": 28,
      "outputs": []
    },
    {
      "cell_type": "code",
      "metadata": {
        "scrolled": true,
        "id": "JHwpkew6fMrI",
        "colab_type": "code",
        "colab": {},
        "outputId": "815fbc22-04b7-4aa4-9552-04729f4df609"
      },
      "source": [
        "for x in items:\n",
        "    print(x**3)"
      ],
      "execution_count": null,
      "outputs": [
        {
          "output_type": "stream",
          "text": [
            "1\n",
            "125\n",
            "1000000\n"
          ],
          "name": "stdout"
        }
      ]
    },
    {
      "cell_type": "code",
      "metadata": {
        "id": "uNMXz-7YfMrM",
        "colab_type": "code",
        "colab": {},
        "outputId": "7a2f6604-9755-4be6-c46e-768454eb5ad4"
      },
      "source": [
        "for i in range(10): \n",
        "    print (i*1000)"
      ],
      "execution_count": null,
      "outputs": [
        {
          "output_type": "stream",
          "text": [
            "0\n",
            "1000\n",
            "2000\n",
            "3000\n",
            "4000\n",
            "5000\n",
            "6000\n",
            "7000\n",
            "8000\n",
            "9000\n"
          ],
          "name": "stdout"
        }
      ]
    },
    {
      "cell_type": "code",
      "metadata": {
        "id": "SycVMEZMfMrO",
        "colab_type": "code",
        "colab": {},
        "outputId": "5c58ddb3-d15d-496a-cc31-46eba40e5939"
      },
      "source": [
        "x = range(10000)\n",
        "x"
      ],
      "execution_count": null,
      "outputs": [
        {
          "output_type": "execute_result",
          "data": {
            "text/plain": [
              "range(0, 10000)"
            ]
          },
          "metadata": {
            "tags": []
          },
          "execution_count": 32
        }
      ]
    },
    {
      "cell_type": "markdown",
      "metadata": {
        "id": "amsbUZIkfMrR",
        "colab_type": "text"
      },
      "source": [
        "### if 문"
      ]
    },
    {
      "cell_type": "code",
      "metadata": {
        "id": "BqSsc2lOfMrT",
        "colab_type": "code",
        "colab": {},
        "outputId": "2f547854-ffb6-4415-b8fc-58818a088f94"
      },
      "source": [
        "for i in range(10): \n",
        "    if  i % 2 == 0:\n",
        "        print('2의 배수(짝수):', i)\n",
        "        print('2의 배수입니다')\n",
        "    if i % 3 == 0:\n",
        "        print('3의 배수', i)\n",
        "    if i % 4 == 0:\n",
        "        print('4의 배수', i)\n",
        "    else:\n",
        "        print('--- 기타')"
      ],
      "execution_count": null,
      "outputs": [
        {
          "output_type": "stream",
          "text": [
            "2의 배수(짝수): 0\n",
            "2의 배수입니다\n",
            "3의 배수 0\n",
            "4의 배수 0\n",
            "--- 기타\n",
            "2의 배수(짝수): 2\n",
            "2의 배수입니다\n",
            "--- 기타\n",
            "3의 배수 3\n",
            "--- 기타\n",
            "2의 배수(짝수): 4\n",
            "2의 배수입니다\n",
            "4의 배수 4\n",
            "--- 기타\n",
            "2의 배수(짝수): 6\n",
            "2의 배수입니다\n",
            "3의 배수 6\n",
            "--- 기타\n",
            "--- 기타\n",
            "2의 배수(짝수): 8\n",
            "2의 배수입니다\n",
            "4의 배수 8\n",
            "3의 배수 9\n",
            "--- 기타\n"
          ],
          "name": "stdout"
        }
      ]
    },
    {
      "cell_type": "code",
      "metadata": {
        "id": "gSnAu-nMfMrW",
        "colab_type": "code",
        "colab": {},
        "outputId": "285556dd-ec6e-475b-fab0-34dcfe75e368"
      },
      "source": [
        "x = [2,1,3,5,4]\n",
        "y = sorted(x)\n",
        "print(x) # [1, 2, 3, 4, 5]\n",
        "print(y)"
      ],
      "execution_count": null,
      "outputs": [
        {
          "output_type": "stream",
          "text": [
            "[2, 1, 3, 5, 4]\n",
            "[1, 2, 3, 4, 5]\n"
          ],
          "name": "stdout"
        }
      ]
    },
    {
      "cell_type": "markdown",
      "metadata": {
        "id": "zkdczJfFigTt",
        "colab_type": "text"
      },
      "source": [
        "## 그래프"
      ]
    },
    {
      "cell_type": "code",
      "metadata": {
        "id": "qwM_-rJafMra",
        "colab_type": "code",
        "colab": {
          "base_uri": "https://localhost:8080/",
          "height": 297
        },
        "outputId": "a88b70eb-f35e-4221-8011-834aea94ef7a"
      },
      "source": [
        "import matplotlib.pyplot as plt\n",
        "import numpy as np\n",
        "%matplotlib inline\n",
        "x = range(100)\n",
        "y = np.random.rand(100)\n",
        "plt.scatter(x,y) #선으로 연결하지 않는 그래프\n",
        "plt.xlabel('x axis')\n",
        "plt.ylabel('y axis')"
      ],
      "execution_count": 29,
      "outputs": [
        {
          "output_type": "execute_result",
          "data": {
            "text/plain": [
              "Text(0, 0.5, 'y axis')"
            ]
          },
          "metadata": {
            "tags": []
          },
          "execution_count": 29
        },
        {
          "output_type": "display_data",
          "data": {
            "image/png": "[encoded data removed]",
            "text/plain": [
              "<Figure size 432x288 with 1 Axes>"
            ]
          },
          "metadata": {
            "tags": [],
            "needs_background": "light"
          }
        }
      ]
    },
    {
      "cell_type": "code",
      "metadata": {
        "id": "8P_NKITvxowK",
        "colab_type": "code",
        "colab": {
          "base_uri": "https://localhost:8080/",
          "height": 297
        },
        "outputId": "5f2eaeb0-3a91-4c5b-be9c-a2d8433a56fa"
      },
      "source": [
        "import matplotlib.pyplot as plt\n",
        "import numpy as np\n",
        "%matplotlib inline\n",
        "x = range(100)\n",
        "y = np.random.rand(100)\n",
        "plt.plot(x,y,c='r',marker='v') #모든 점을 다 선으로 연결함\n",
        "plt.xlabel('x axis')\n",
        "plt.ylabel('y axis')"
      ],
      "execution_count": 34,
      "outputs": [
        {
          "output_type": "execute_result",
          "data": {
            "text/plain": [
              "Text(0, 0.5, 'y axis')"
            ]
          },
          "metadata": {
            "tags": []
          },
          "execution_count": 34
        },
        {
          "output_type": "display_data",
          "data": {
            "image/png": "[encoded data removed]",
            "text/plain": [
              "<Figure size 432x288 with 1 Axes>"
            ]
          },
          "metadata": {
            "tags": [],
            "needs_background": "light"
          }
        }
      ]
    },
    {
      "cell_type": "code",
      "metadata": {
        "id": "5-dmGgHqfMrc",
        "colab_type": "code",
        "colab": {
          "base_uri": "https://localhost:8080/",
          "height": 297
        },
        "outputId": "e2aa0e2d-f584-4254-fea7-67b50cc272c6"
      },
      "source": [
        "import numpy as np\n",
        "import matplotlib.pyplot as plt\n",
        "%matplotlib inline\n",
        "n = 10\n",
        "y = np.random.randn(n)\n",
        "plt.plot(range(n), y)\n",
        "plt.xlabel('time')\n",
        "plt.ylabel('random value')"
      ],
      "execution_count": 30,
      "outputs": [
        {
          "output_type": "execute_result",
          "data": {
            "text/plain": [
              "Text(0, 0.5, 'random value')"
            ]
          },
          "metadata": {
            "tags": []
          },
          "execution_count": 30
        },
        {
          "output_type": "display_data",
          "data": {
            "image/png": "[encoded data removed]",
            "text/plain": [
              "<Figure size 432x288 with 1 Axes>"
            ]
          },
          "metadata": {
            "tags": [],
            "needs_background": "light"
          }
        }
      ]
    },
    {
      "cell_type": "markdown",
      "metadata": {
        "id": "4yEdvmwMobQq",
        "colab_type": "text"
      },
      "source": [
        "## 함수 사용법"
      ]
    },
    {
      "cell_type": "code",
      "metadata": {
        "id": "ZOhyGSE8fMre",
        "colab_type": "code",
        "colab": {},
        "outputId": "81fdc845-a816-4e59-c3fc-a78f48423b97"
      },
      "source": [
        "def my_func(x): \n",
        "    return x*2\n",
        "\n",
        "my_func(5)"
      ],
      "execution_count": null,
      "outputs": [
        {
          "output_type": "execute_result",
          "data": {
            "text/plain": [
              "10"
            ]
          },
          "metadata": {
            "tags": []
          },
          "execution_count": 38
        }
      ]
    },
    {
      "cell_type": "code",
      "metadata": {
        "id": "rMxA3PkEyfqH",
        "colab_type": "code",
        "colab": {
          "base_uri": "https://localhost:8080/",
          "height": 35
        },
        "outputId": "793fa082-d30c-4fd5-ff95-d025a5d4d4a9"
      },
      "source": [
        "def my_func2(x):\n",
        "  return x*2\n",
        "\n",
        "my_func2([1,2,3])"
      ],
      "execution_count": 35,
      "outputs": [
        {
          "output_type": "execute_result",
          "data": {
            "text/plain": [
              "[1, 2, 3, 1, 2, 3]"
            ]
          },
          "metadata": {
            "tags": []
          },
          "execution_count": 35
        }
      ]
    },
    {
      "cell_type": "code",
      "metadata": {
        "id": "6ZHLkoLzyp1d",
        "colab_type": "code",
        "colab": {
          "base_uri": "https://localhost:8080/",
          "height": 35
        },
        "outputId": "5c80c438-14b7-4a1c-82ef-fcd9aceb0e6e"
      },
      "source": [
        "def my_func3(a,b,c):\n",
        "  return 100*a + 10*b + c\n",
        "\n",
        "my_func3(1,1,1)\n",
        "#my_func3(1,1) #default값이 없는경우 Error 발생\n",
        "\n",
        "def my_func4(a=5,b=5,c=5):\n",
        "  return 100*a + 10*b + c\n",
        "\n",
        "my_func4(1,1) #default값으로 동작함\n",
        "\n",
        "def my_func5(a,b,c=4):\n",
        "  return 100*a + 10*b + c\n",
        "\n",
        "my_func5(9,1) #default값으로 동작함"
      ],
      "execution_count": 42,
      "outputs": [
        {
          "output_type": "execute_result",
          "data": {
            "text/plain": [
              "914"
            ]
          },
          "metadata": {
            "tags": []
          },
          "execution_count": 42
        }
      ]
    },
    {
      "cell_type": "markdown",
      "metadata": {
        "id": "REbsFdpnoe6R",
        "colab_type": "text"
      },
      "source": [
        "## 랜덤 숫자와 몬테카를로 실뮬레이션"
      ]
    },
    {
      "cell_type": "code",
      "metadata": {
        "id": "ZDT4Ly2k8T8g",
        "colab_type": "code",
        "colab": {
          "base_uri": "https://localhost:8080/",
          "height": 35
        },
        "outputId": "671f6d03-f5d4-4cf0-ec59-8039378285b5"
      },
      "source": [
        "x = np.random.rand(10000).round(2)\n",
        "x,(x<0.5).sum(),(x<0.5).mean()"
      ],
      "execution_count": 64,
      "outputs": [
        {
          "output_type": "execute_result",
          "data": {
            "text/plain": [
              "(array([0.91, 0.89, 0.59, ..., 0.29, 0.01, 0.69]), 4992, 0.4992)"
            ]
          },
          "metadata": {
            "tags": []
          },
          "execution_count": 64
        }
      ]
    },
    {
      "cell_type": "code",
      "metadata": {
        "id": "mPZXXP399cTR",
        "colab_type": "code",
        "colab": {
          "base_uri": "https://localhost:8080/",
          "height": 283
        },
        "outputId": "e7bd2928-3295-4ad5-c3fb-11d348de704d"
      },
      "source": [
        "a = np.linspace(0,10,101)\n",
        "plt.plot(a,np.log(a+0.01))"
      ],
      "execution_count": 69,
      "outputs": [
        {
          "output_type": "execute_result",
          "data": {
            "text/plain": [
              "[<matplotlib.lines.Line2D at 0x7fce573ce470>]"
            ]
          },
          "metadata": {
            "tags": []
          },
          "execution_count": 69
        },
        {
          "output_type": "display_data",
          "data": {
            "image/png": "[encoded data removed]",
            "text/plain": [
              "<Figure size 432x288 with 1 Axes>"
            ]
          },
          "metadata": {
            "tags": [],
            "needs_background": "light"
          }
        }
      ]
    },
    {
      "cell_type": "code",
      "metadata": {
        "id": "VwV5H8KhfMrh",
        "colab_type": "code",
        "colab": {
          "base_uri": "https://localhost:8080/",
          "height": 229
        },
        "outputId": "1efbf985-657d-4762-ad4e-50058dcca3f2"
      },
      "source": [
        "n = 1000000\n",
        "x = np.random.rand(n)\n",
        "y = np.random.rand(n) \n",
        "plt.figure(figsize=(3,3)) \n",
        "plt.scatter(x,y, s=1) \n",
        "xx=np.linspace(0,1,100) \n",
        "plt.plot(xx, (1-xx*xx)**0.5, c='r') #python 산술연산자 ** : square\n",
        "pi = ((x**2 + y**2) < 1).mean()*4 #반지름 1보다 작은영역의 값 평균 \n",
        "pi #반지름을 구할 수 있다 "
      ],
      "execution_count": 76,
      "outputs": [
        {
          "output_type": "execute_result",
          "data": {
            "text/plain": [
              "3.142916"
            ]
          },
          "metadata": {
            "tags": []
          },
          "execution_count": 76
        },
        {
          "output_type": "display_data",
          "data": {
            "image/png": "[encoded data removed]",
            "text/plain": [
              "<Figure size 216x216 with 1 Axes>"
            ]
          },
          "metadata": {
            "tags": [],
            "needs_background": "light"
          }
        }
      ]
    },
    {
      "cell_type": "code",
      "metadata": {
        "id": "gILEcBqFfMrl",
        "colab_type": "code",
        "colab": {},
        "outputId": "c691651c-4ece-49b1-8295-7fa3d57432aa"
      },
      "source": [
        "n = 5\n",
        "x = np.random.rand(n).round(2)\n",
        "y = np.random.rand(n).round(2)\n",
        "x,y"
      ],
      "execution_count": null,
      "outputs": [
        {
          "output_type": "execute_result",
          "data": {
            "text/plain": [
              "(array([0.67, 0.28, 0.62, 0.45, 0.76]), array([0.63, 1.  , 0.53, 0.94, 0.1 ]))"
            ]
          },
          "metadata": {
            "tags": []
          },
          "execution_count": 40
        }
      ]
    },
    {
      "cell_type": "code",
      "metadata": {
        "id": "TpSpTVSOfMrn",
        "colab_type": "code",
        "colab": {},
        "outputId": "b8af2481-57fa-48ab-e08d-2e216c09ea57"
      },
      "source": [
        "plt.figure(figsize=(3,3)) \n",
        "plt.scatter(x,y, s=50)  #s는 점의 size"
      ],
      "execution_count": null,
      "outputs": [
        {
          "output_type": "execute_result",
          "data": {
            "text/plain": [
              "<matplotlib.collections.PathCollection at 0x1075dca90>"
            ]
          },
          "metadata": {
            "tags": []
          },
          "execution_count": 41
        },
        {
          "output_type": "display_data",
          "data": {
            "image/png": "[encoded data removed]",
            "text/plain": [
              "<Figure size 216x216 with 1 Axes>"
            ]
          },
          "metadata": {
            "tags": [],
            "needs_background": "light"
          }
        }
      ]
    },
    {
      "cell_type": "code",
      "metadata": {
        "id": "Vu6G_7SOfMrp",
        "colab_type": "code",
        "colab": {
          "base_uri": "https://localhost:8080/",
          "height": 229
        },
        "outputId": "5bad95f3-4477-45e7-d355-e30df9f54da0"
      },
      "source": [
        "xx=np.linspace(0,1,100) \n",
        "plt.figure(figsize=(3,3)) \n",
        "plt.plot(xx, (1-xx*xx)**0.5, c='r')"
      ],
      "execution_count": 71,
      "outputs": [
        {
          "output_type": "execute_result",
          "data": {
            "text/plain": [
              "[<matplotlib.lines.Line2D at 0x7fce573052b0>]"
            ]
          },
          "metadata": {
            "tags": []
          },
          "execution_count": 71
        },
        {
          "output_type": "display_data",
          "data": {
            "image/png": "[encoded data removed]",
            "text/plain": [
              "<Figure size 216x216 with 1 Axes>"
            ]
          },
          "metadata": {
            "tags": [],
            "needs_background": "light"
          }
        }
      ]
    },
    {
      "cell_type": "code",
      "metadata": {
        "id": "y8p9YTPWfMrs",
        "colab_type": "code",
        "colab": {},
        "outputId": "27193f91-20cd-42b3-9dd7-8e1ce3a70def"
      },
      "source": [
        "z = np.random.rand(500000)\n",
        "(z < 0.5).mean()"
      ],
      "execution_count": null,
      "outputs": [
        {
          "output_type": "execute_result",
          "data": {
            "text/plain": [
              "0.499846"
            ]
          },
          "metadata": {
            "tags": []
          },
          "execution_count": 43
        }
      ]
    },
    {
      "cell_type": "code",
      "metadata": {
        "id": "X9x5W4rjfMrv",
        "colab_type": "code",
        "colab": {}
      },
      "source": [
        "pi = ((x**2 + y**2) < 1).mean()*4 "
      ],
      "execution_count": null,
      "outputs": []
    },
    {
      "cell_type": "markdown",
      "metadata": {
        "id": "L2nl5fF7ol_e",
        "colab_type": "text"
      },
      "source": [
        "## 확률 분포, 정규분포"
      ]
    },
    {
      "cell_type": "code",
      "metadata": {
        "id": "gmY4tKnPfMry",
        "colab_type": "code",
        "colab": {},
        "outputId": "984193a2-4b0b-4e5b-9051-a694526dd745"
      },
      "source": [
        "x = np.random.randint(1,7, 5) ;x"
      ],
      "execution_count": null,
      "outputs": [
        {
          "output_type": "execute_result",
          "data": {
            "text/plain": [
              "array([2, 1, 2, 6, 1])"
            ]
          },
          "metadata": {
            "tags": []
          },
          "execution_count": 45
        }
      ]
    },
    {
      "cell_type": "code",
      "metadata": {
        "id": "PSyp7_bmfMr0",
        "colab_type": "code",
        "colab": {},
        "outputId": "2eeead45-aa90-4c7b-85d8-9fc7722319ca"
      },
      "source": [
        "x = np.random.randint(1,7,100000) \n",
        "plt.hist(x, bins = 6, width=0.6) \n",
        "plt.show()"
      ],
      "execution_count": null,
      "outputs": [
        {
          "output_type": "display_data",
          "data": {
            "image/png": "[encoded data removed]",
            "text/plain": [
              "<Figure size 432x288 with 1 Axes>"
            ]
          },
          "metadata": {
            "tags": [],
            "needs_background": "light"
          }
        }
      ]
    },
    {
      "cell_type": "code",
      "metadata": {
        "id": "ztv_wR0QfMr2",
        "colab_type": "code",
        "colab": {},
        "outputId": "49210d36-545c-4dc0-93cd-8f6d7d02e9c1"
      },
      "source": [
        "z = 0\n",
        "n = 32 # number of indices thrown\n",
        "for i in range(n):\n",
        "    x = np.random.randint(1,7,10000) \n",
        "    z = z + x\n",
        "plt.hist(z, bins = n*5+1, width=0.6) \n",
        "plt.show()"
      ],
      "execution_count": null,
      "outputs": [
        {
          "output_type": "display_data",
          "data": {
            "image/png": "[encoded data removed]",
            "text/plain": [
              "<Figure size 432x288 with 1 Axes>"
            ]
          },
          "metadata": {
            "tags": [],
            "needs_background": "light"
          }
        }
      ]
    },
    {
      "cell_type": "code",
      "metadata": {
        "id": "uf2nvBNHfMr4",
        "colab_type": "code",
        "colab": {},
        "outputId": "35d18a23-43ac-4af5-dc37-95cb8662f9a2"
      },
      "source": [
        "x = np.random.randn(5) ;x"
      ],
      "execution_count": null,
      "outputs": [
        {
          "output_type": "execute_result",
          "data": {
            "text/plain": [
              "array([-0.96063611, -0.8554992 , -1.83229223,  0.72836536,  0.46394457])"
            ]
          },
          "metadata": {
            "tags": []
          },
          "execution_count": 48
        }
      ]
    },
    {
      "cell_type": "code",
      "metadata": {
        "id": "vkxXuRkofMr6",
        "colab_type": "code",
        "colab": {},
        "outputId": "70946120-996d-4968-fc7c-dc1fc47d2e42"
      },
      "source": [
        "x = np.random.randn(100000) \n",
        "plt.hist(x, bins = 100, width=0.03) \n",
        "plt.show()"
      ],
      "execution_count": null,
      "outputs": [
        {
          "output_type": "display_data",
          "data": {
            "image/png": "[encoded data removed]",
            "text/plain": [
              "<Figure size 432x288 with 1 Axes>"
            ]
          },
          "metadata": {
            "tags": [],
            "needs_background": "light"
          }
        }
      ]
    },
    {
      "cell_type": "markdown",
      "metadata": {
        "id": "8TVN0jhRiATj",
        "colab_type": "text"
      },
      "source": [
        "## 어레이와 리스트\n",
        "- 어레이: 계산을 위한 매트릭스 표현\n",
        "- 리스트: 데이터를 담고 처리하는데 사용되는 컨테이너"
      ]
    },
    {
      "cell_type": "code",
      "metadata": {
        "id": "GGUUCGDgz1jZ",
        "colab_type": "code",
        "colab": {
          "base_uri": "https://localhost:8080/",
          "height": 35
        },
        "outputId": "6668f313-6b52-45e2-bb7b-2dd33261d273"
      },
      "source": [
        "x = np.arange(12) #matrix, 보통 숫자들만 다룸\n",
        "x\n",
        "x_1 = x.reshape(3,4) #3x4 행렬로 변경\n",
        "type(x_1), x_1.shape\n"
      ],
      "execution_count": 50,
      "outputs": [
        {
          "output_type": "execute_result",
          "data": {
            "text/plain": [
              "(numpy.ndarray, (3, 4))"
            ]
          },
          "metadata": {
            "tags": []
          },
          "execution_count": 50
        }
      ]
    },
    {
      "cell_type": "code",
      "metadata": {
        "id": "8hclnvnj0xp-",
        "colab_type": "code",
        "colab": {
          "base_uri": "https://localhost:8080/",
          "height": 35
        },
        "outputId": "de549a63-27c6-4f7b-cc64-2f18e54a3aad"
      },
      "source": [
        "x\n",
        "x.shape #1차원 array = vector"
      ],
      "execution_count": 52,
      "outputs": [
        {
          "output_type": "execute_result",
          "data": {
            "text/plain": [
              "(12,)"
            ]
          },
          "metadata": {
            "tags": []
          },
          "execution_count": 52
        }
      ]
    },
    {
      "cell_type": "code",
      "metadata": {
        "id": "V9vizZX96y6S",
        "colab_type": "code",
        "colab": {
          "base_uri": "https://localhost:8080/",
          "height": 71
        },
        "outputId": "2ebe65b2-0268-4997-8bba-a8d96a9ab7d1"
      },
      "source": [
        "y = np.arange(12)\n",
        "y.reshape(-1,3) #-1을 넣으면 알아서 데이터 숫자에 맞게 변경됨. =y.reshape(4,3)\n",
        "y.reshape(-1,3,4)"
      ],
      "execution_count": 56,
      "outputs": [
        {
          "output_type": "execute_result",
          "data": {
            "text/plain": [
              "array([[[ 0,  1,  2,  3],\n",
              "        [ 4,  5,  6,  7],\n",
              "        [ 8,  9, 10, 11]]])"
            ]
          },
          "metadata": {
            "tags": []
          },
          "execution_count": 56
        }
      ]
    },
    {
      "cell_type": "code",
      "metadata": {
        "id": "Scu5KUitKr4g",
        "colab_type": "code",
        "colab": {
          "base_uri": "https://localhost:8080/",
          "height": 35
        },
        "outputId": "730efcdd-c3ae-43d4-e35a-d23d384fdcc5"
      },
      "source": [
        "x=np.arange(5)\n",
        "y=list(x) #array->list\n",
        "x*3 #숫자로 보기 때문에 각 항목의 숫자에 곱하기 3을함\n",
        "y*3 #데이터의 컨테이너로 보기 때문에 컨테이너 묶음을 3번 추가함"
      ],
      "execution_count": 78,
      "outputs": [
        {
          "output_type": "execute_result",
          "data": {
            "text/plain": [
              "[0, 1, 2, 3, 4, 0, 1, 2, 3, 4, 0, 1, 2, 3, 4]"
            ]
          },
          "metadata": {
            "tags": []
          },
          "execution_count": 78
        }
      ]
    },
    {
      "cell_type": "code",
      "metadata": {
        "id": "QjyWY9QnLFyr",
        "colab_type": "code",
        "colab": {
          "base_uri": "https://localhost:8080/",
          "height": 35
        },
        "outputId": "508b9477-3c70-4092-acc1-2a5265dfe45a"
      },
      "source": [
        "y = np.array(y) #list->array\n",
        "type(y)"
      ],
      "execution_count": 83,
      "outputs": [
        {
          "output_type": "execute_result",
          "data": {
            "text/plain": [
              "numpy.ndarray"
            ]
          },
          "metadata": {
            "tags": []
          },
          "execution_count": 83
        }
      ]
    },
    {
      "cell_type": "markdown",
      "metadata": {
        "id": "-bVXHIf6l11O",
        "colab_type": "text"
      },
      "source": [
        "## 파일 받기"
      ]
    },
    {
      "cell_type": "code",
      "metadata": {
        "id": "4KVWzZc1VDR4",
        "colab_type": "code",
        "colab": {}
      },
      "source": [
        "import os, os.path, shutil\n",
        "import zipfile"
      ],
      "execution_count": null,
      "outputs": []
    },
    {
      "cell_type": "code",
      "metadata": {
        "id": "pROk9rpKKnSv",
        "colab_type": "code",
        "colab": {}
      },
      "source": [
        ""
      ],
      "execution_count": null,
      "outputs": []
    },
    {
      "cell_type": "code",
      "metadata": {
        "id": "DVegsnOCVDHW",
        "colab_type": "code",
        "colab": {}
      },
      "source": [
        "if not os.path.exists(\"./data\"):\n",
        "  os.makedirs(\"./data\")\n",
        "if not os.path.exists(\"./data/cats_and_dogs_filtered.zip\"):\n",
        "  !wget https:......  -O ./data/XXX.zip"
      ],
      "execution_count": null,
      "outputs": []
    },
    {
      "cell_type": "code",
      "metadata": {
        "id": "6BuX_pQHVC9I",
        "colab_type": "code",
        "colab": {}
      },
      "source": [
        "local_zip = './data/XXX.zip'\n",
        "zip_ref = zipfile.ZipFile(local_zip, 'r')\n",
        "zip_ref.extractall('./data')\n",
        "zip_ref.close()"
      ],
      "execution_count": null,
      "outputs": []
    },
    {
      "cell_type": "markdown",
      "metadata": {
        "id": "sXaOvKWQmLbd",
        "colab_type": "text"
      },
      "source": [
        "## PC로 파일 다운로드, 업로드"
      ]
    },
    {
      "cell_type": "code",
      "metadata": {
        "id": "vz-jH8T_Uk2c",
        "colab_type": "code",
        "colab": {
          "resources": {
            "http://localhost:8080/nbextensions/google.colab/files.js": {
              "data": "Ly8gQ29weXJpZ2h0IDIwMTcgR29vZ2xlIExMQwovLwovLyBMaWNlbnNlZCB1bmRlciB0aGUgQXBhY2hlIExpY2Vuc2UsIFZlcnNpb24gMi4wICh0aGUgIkxpY2Vuc2UiKTsKLy8geW91IG1heSBub3QgdXNlIHRoaXMgZmlsZSBleGNlcHQgaW4gY29tcGxpYW5jZSB3aXRoIHRoZSBMaWNlbnNlLgovLyBZb3UgbWF5IG9idGFpbiBhIGNvcHkgb2YgdGhlIExpY2Vuc2UgYXQKLy8KLy8gICAgICBodHRwOi8vd3d3LmFwYWNoZS5vcmcvbGljZW5zZXMvTElDRU5TRS0yLjAKLy8KLy8gVW5sZXNzIHJlcXVpcmVkIGJ5IGFwcGxpY2FibGUgbGF3IG9yIGFncmVlZCB0byBpbiB3cml0aW5nLCBzb2Z0d2FyZQovLyBkaXN0cmlidXRlZCB1bmRlciB0aGUgTGljZW5zZSBpcyBkaXN0cmlidXRlZCBvbiBhbiAiQVMgSVMiIEJBU0lTLAovLyBXSVRIT1VUIFdBUlJBTlRJRVMgT1IgQ09ORElUSU9OUyBPRiBBTlkgS0lORCwgZWl0aGVyIGV4cHJlc3Mgb3IgaW1wbGllZC4KLy8gU2VlIHRoZSBMaWNlbnNlIGZvciB0aGUgc3BlY2lmaWMgbGFuZ3VhZ2UgZ292ZXJuaW5nIHBlcm1pc3Npb25zIGFuZAovLyBsaW1pdGF0aW9ucyB1bmRlciB0aGUgTGljZW5zZS4KCi8qKgogKiBAZmlsZW92ZXJ2aWV3IEhlbHBlcnMgZm9yIGdvb2dsZS5jb2xhYiBQeXRob24gbW9kdWxlLgogKi8KKGZ1bmN0aW9uKHNjb3BlKSB7CmZ1bmN0aW9uIHNwYW4odGV4dCwgc3R5bGVBdHRyaWJ1dGVzID0ge30pIHsKICBjb25zdCBlbGVtZW50ID0gZG9jdW1lbnQuY3JlYXRlRWxlbWVudCgnc3BhbicpOwogIGVsZW1lbnQudGV4dENvbnRlbnQgPSB0ZXh0OwogIGZvciAoY29uc3Qga2V5IG9mIE9iamVjdC5rZXlzKHN0eWxlQXR0cmlidXRlcykpIHsKICAgIGVsZW1lbnQuc3R5bGVba2V5XSA9IHN0eWxlQXR0cmlidXRlc1trZXldOwogIH0KICByZXR1cm4gZWxlbWVudDsKfQoKLy8gTWF4IG51bWJlciBvZiBieXRlcyB3aGljaCB3aWxsIGJlIHVwbG9hZGVkIGF0IGEgdGltZS4KY29uc3QgTUFYX1BBWUxPQURfU0laRSA9IDEwMCAqIDEwMjQ7Ci8vIE1heCBhbW91bnQgb2YgdGltZSB0byBibG9jayB3YWl0aW5nIGZvciB0aGUgdXNlci4KY29uc3QgRklMRV9DSEFOR0VfVElNRU9VVF9NUyA9IDMwICogMTAwMDsKCmZ1bmN0aW9uIF91cGxvYWRGaWxlcyhpbnB1dElkLCBvdXRwdXRJZCkgewogIGNvbnN0IHN0ZXBzID0gdXBsb2FkRmlsZXNTdGVwKGlucHV0SWQsIG91dHB1dElkKTsKICBjb25zdCBvdXRwdXRFbGVtZW50ID0gZG9jdW1lbnQuZ2V0RWxlbWVudEJ5SWQob3V0cHV0SWQpOwogIC8vIENhY2hlIHN0ZXBzIG9uIHRoZSBvdXRwdXRFbGVtZW50IHRvIG1ha2UgaXQgYXZhaWxhYmxlIGZvciB0aGUgbmV4dCBjYWxsCiAgLy8gdG8gdXBsb2FkRmlsZXNDb250aW51ZSBmcm9tIFB5dGhvbi4KICBvdXRwdXRFbGVtZW50LnN0ZXBzID0gc3RlcHM7CgogIHJldHVybiBfdXBsb2FkRmlsZXNDb250aW51ZShvdXRwdXRJZCk7Cn0KCi8vIFRoaXMgaXMgcm91Z2hseSBhbiBhc3luYyBnZW5lcmF0b3IgKG5vdCBzdXBwb3J0ZWQgaW4gdGhlIGJyb3dzZXIgeWV0KSwKLy8gd2hlcmUgdGhlcmUgYXJlIG11bHRpcGxlIGFzeW5jaHJvbm91cyBzdGVwcyBhbmQgdGhlIFB5dGhvbiBzaWRlIGlzIGdvaW5nCi8vIHRvIHBvbGwgZm9yIGNvbXBsZXRpb24gb2YgZWFjaCBzdGVwLgovLyBUaGlzIHVzZXMgYSBQcm9taXNlIHRvIGJsb2NrIHRoZSBweXRob24gc2lkZSBvbiBjb21wbGV0aW9uIG9mIGVhY2ggc3RlcCwKLy8gdGhlbiBwYXNzZXMgdGhlIHJlc3VsdCBvZiB0aGUgcHJldmlvdXMgc3RlcCBhcyB0aGUgaW5wdXQgdG8gdGhlIG5leHQgc3RlcC4KZnVuY3Rpb24gX3VwbG9hZEZpbGVzQ29udGludWUob3V0cHV0SWQpIHsKICBjb25zdCBvdXRwdXRFbGVtZW50ID0gZG9jdW1lbnQuZ2V0RWxlbWVudEJ5SWQob3V0cHV0SWQpOwogIGNvbnN0IHN0ZXBzID0gb3V0cHV0RWxlbWVudC5zdGVwczsKCiAgY29uc3QgbmV4dCA9IHN0ZXBzLm5leHQob3V0cHV0RWxlbWVudC5sYXN0UHJvbWlzZVZhbHVlKTsKICByZXR1cm4gUHJvbWlzZS5yZXNvbHZlKG5leHQudmFsdWUucHJvbWlzZSkudGhlbigodmFsdWUpID0+IHsKICAgIC8vIENhY2hlIHRoZSBsYXN0IHByb21pc2UgdmFsdWUgdG8gbWFrZSBpdCBhdmFpbGFibGUgdG8gdGhlIG5leHQKICAgIC8vIHN0ZXAgb2YgdGhlIGdlbmVyYXRvci4KICAgIG91dHB1dEVsZW1lbnQubGFzdFByb21pc2VWYWx1ZSA9IHZhbHVlOwogICAgcmV0dXJuIG5leHQudmFsdWUucmVzcG9uc2U7CiAgfSk7Cn0KCi8qKgogKiBHZW5lcmF0b3IgZnVuY3Rpb24gd2hpY2ggaXMgY2FsbGVkIGJldHdlZW4gZWFjaCBhc3luYyBzdGVwIG9mIHRoZSB1cGxvYWQKICogcHJvY2Vzcy4KICogQHBhcmFtIHtzdHJpbmd9IGlucHV0SWQgRWxlbWVudCBJRCBvZiB0aGUgaW5wdXQgZmlsZSBwaWNrZXIgZWxlbWVudC4KICogQHBhcmFtIHtzdHJpbmd9IG91dHB1dElkIEVsZW1lbnQgSUQgb2YgdGhlIG91dHB1dCBkaXNwbGF5LgogKiBAcmV0dXJuIHshSXRlcmFibGU8IU9iamVjdD59IEl0ZXJhYmxlIG9mIG5leHQgc3RlcHMuCiAqLwpmdW5jdGlvbiogdXBsb2FkRmlsZXNTdGVwKGlucHV0SWQsIG91dHB1dElkKSB7CiAgY29uc3QgaW5wdXRFbGVtZW50ID0gZG9jdW1lbnQuZ2V0RWxlbWVudEJ5SWQoaW5wdXRJZCk7CiAgaW5wdXRFbGVtZW50LmRpc2FibGVkID0gZmFsc2U7CgogIGNvbnN0IG91dHB1dEVsZW1lbnQgPSBkb2N1bWVudC5nZXRFbGVtZW50QnlJZChvdXRwdXRJZCk7CiAgb3V0cHV0RWxlbWVudC5pbm5lckhUTUwgPSAnJzsKCiAgY29uc3QgcGlja2VkUHJvbWlzZSA9IG5ldyBQcm9taXNlKChyZXNvbHZlKSA9PiB7CiAgICBpbnB1dEVsZW1lbnQuYWRkRXZlbnRMaXN0ZW5lcignY2hhbmdlJywgKGUpID0+IHsKICAgICAgcmVzb2x2ZShlLnRhcmdldC5maWxlcyk7CiAgICB9KTsKICB9KTsKCiAgY29uc3QgY2FuY2VsID0gZG9jdW1lbnQuY3JlYXRlRWxlbWVudCgnYnV0dG9uJyk7CiAgaW5wdXRFbGVtZW50LnBhcmVudEVsZW1lbnQuYXBwZW5kQ2hpbGQoY2FuY2VsKTsKICBjYW5jZWwudGV4dENvbnRlbnQgPSAnQ2FuY2VsIHVwbG9hZCc7CiAgY29uc3QgY2FuY2VsUHJvbWlzZSA9IG5ldyBQcm9taXNlKChyZXNvbHZlKSA9PiB7CiAgICBjYW5jZWwub25jbGljayA9ICgpID0+IHsKICAgICAgcmVzb2x2ZShudWxsKTsKICAgIH07CiAgfSk7CgogIC8vIENhbmNlbCB1cGxvYWQgaWYgdXNlciBoYXNuJ3QgcGlja2VkIGFueXRoaW5nIGluIHRpbWVvdXQuCiAgY29uc3QgdGltZW91dFByb21pc2UgPSBuZXcgUHJvbWlzZSgocmVzb2x2ZSkgPT4gewogICAgc2V0VGltZW91dCgoKSA9PiB7CiAgICAgIHJlc29sdmUobnVsbCk7CiAgICB9LCBGSUxFX0NIQU5HRV9USU1FT1VUX01TKTsKICB9KTsKCiAgLy8gV2FpdCBmb3IgdGhlIHVzZXIgdG8gcGljayB0aGUgZmlsZXMuCiAgY29uc3QgZmlsZXMgPSB5aWVsZCB7CiAgICBwcm9taXNlOiBQcm9taXNlLnJhY2UoW3BpY2tlZFByb21pc2UsIHRpbWVvdXRQcm9taXNlLCBjYW5jZWxQcm9taXNlXSksCiAgICByZXNwb25zZTogewogICAgICBhY3Rpb246ICdzdGFydGluZycsCiAgICB9CiAgfTsKCiAgaWYgKCFmaWxlcykgewogICAgcmV0dXJuIHsKICAgICAgcmVzcG9uc2U6IHsKICAgICAgICBhY3Rpb246ICdjb21wbGV0ZScsCiAgICAgIH0KICAgIH07CiAgfQoKICBjYW5jZWwucmVtb3ZlKCk7CgogIC8vIERpc2FibGUgdGhlIGlucHV0IGVsZW1lbnQgc2luY2UgZnVydGhlciBwaWNrcyBhcmUgbm90IGFsbG93ZWQuCiAgaW5wdXRFbGVtZW50LmRpc2FibGVkID0gdHJ1ZTsKCiAgZm9yIChjb25zdCBmaWxlIG9mIGZpbGVzKSB7CiAgICBjb25zdCBsaSA9IGRvY3VtZW50LmNyZWF0ZUVsZW1lbnQoJ2xpJyk7CiAgICBsaS5hcHBlbmQoc3BhbihmaWxlLm5hbWUsIHtmb250V2VpZ2h0OiAnYm9sZCd9KSk7CiAgICBsaS5hcHBlbmQoc3BhbigKICAgICAgICBgKCR7ZmlsZS50eXBlIHx8ICduL2EnfSkgLSAke2ZpbGUuc2l6ZX0gYnl0ZXMsIGAgKwogICAgICAgIGBsYXN0IG1vZGlmaWVkOiAkewogICAgICAgICAgICBmaWxlLmxhc3RNb2RpZmllZERhdGUgPyBmaWxlLmxhc3RNb2RpZmllZERhdGUudG9Mb2NhbGVEYXRlU3RyaW5nKCkgOgogICAgICAgICAgICAgICAgICAgICAgICAgICAgICAgICAgICAnbi9hJ30gLSBgKSk7CiAgICBjb25zdCBwZXJjZW50ID0gc3BhbignMCUgZG9uZScpOwogICAgbGkuYXBwZW5kQ2hpbGQocGVyY2VudCk7CgogICAgb3V0cHV0RWxlbWVudC5hcHBlbmRDaGlsZChsaSk7CgogICAgY29uc3QgZmlsZURhdGFQcm9taXNlID0gbmV3IFByb21pc2UoKHJlc29sdmUpID0+IHsKICAgICAgY29uc3QgcmVhZGVyID0gbmV3IEZpbGVSZWFkZXIoKTsKICAgICAgcmVhZGVyLm9ubG9hZCA9IChlKSA9PiB7CiAgICAgICAgcmVzb2x2ZShlLnRhcmdldC5yZXN1bHQpOwogICAgICB9OwogICAgICByZWFkZXIucmVhZEFzQXJyYXlCdWZmZXIoZmlsZSk7CiAgICB9KTsKICAgIC8vIFdhaXQgZm9yIHRoZSBkYXRhIHRvIGJlIHJlYWR5LgogICAgbGV0IGZpbGVEYXRhID0geWllbGQgewogICAgICBwcm9taXNlOiBmaWxlRGF0YVByb21pc2UsCiAgICAgIHJlc3BvbnNlOiB7CiAgICAgICAgYWN0aW9uOiAnY29udGludWUnLAogICAgICB9CiAgICB9OwoKICAgIC8vIFVzZSBhIGNodW5rZWQgc2VuZGluZyB0byBhdm9pZCBtZXNzYWdlIHNpemUgbGltaXRzLiBTZWUgYi82MjExNTY2MC4KICAgIGxldCBwb3NpdGlvbiA9IDA7CiAgICB3aGlsZSAocG9zaXRpb24gPCBmaWxlRGF0YS5ieXRlTGVuZ3RoKSB7CiAgICAgIGNvbnN0IGxlbmd0aCA9IE1hdGgubWluKGZpbGVEYXRhLmJ5dGVMZW5ndGggLSBwb3NpdGlvbiwgTUFYX1BBWUxPQURfU0laRSk7CiAgICAgIGNvbnN0IGNodW5rID0gbmV3IFVpbnQ4QXJyYXkoZmlsZURhdGEsIHBvc2l0aW9uLCBsZW5ndGgpOwogICAgICBwb3NpdGlvbiArPSBsZW5ndGg7CgogICAgICBjb25zdCBiYXNlNjQgPSBidG9hKFN0cmluZy5mcm9tQ2hhckNvZGUuYXBwbHkobnVsbCwgY2h1bmspKTsKICAgICAgeWllbGQgewogICAgICAgIHJlc3BvbnNlOiB7CiAgICAgICAgICBhY3Rpb246ICdhcHBlbmQnLAogICAgICAgICAgZmlsZTogZmlsZS5uYW1lLAogICAgICAgICAgZGF0YTogYmFzZTY0LAogICAgICAgIH0sCiAgICAgIH07CiAgICAgIHBlcmNlbnQudGV4dENvbnRlbnQgPQogICAgICAgICAgYCR7TWF0aC5yb3VuZCgocG9zaXRpb24gLyBmaWxlRGF0YS5ieXRlTGVuZ3RoKSAqIDEwMCl9JSBkb25lYDsKICAgIH0KICB9CgogIC8vIEFsbCBkb25lLgogIHlpZWxkIHsKICAgIHJlc3BvbnNlOiB7CiAgICAgIGFjdGlvbjogJ2NvbXBsZXRlJywKICAgIH0KICB9Owp9CgpzY29wZS5nb29nbGUgPSBzY29wZS5nb29nbGUgfHwge307CnNjb3BlLmdvb2dsZS5jb2xhYiA9IHNjb3BlLmdvb2dsZS5jb2xhYiB8fCB7fTsKc2NvcGUuZ29vZ2xlLmNvbGFiLl9maWxlcyA9IHsKICBfdXBsb2FkRmlsZXMsCiAgX3VwbG9hZEZpbGVzQ29udGludWUsCn07Cn0pKHNlbGYpOwo=",
              "ok": true,
              "headers": [
                [
                  "content-type",
                  "application/javascript"
                ]
              ],
              "status": 200,
              "status_text": ""
            }
          },
          "base_uri": "https://localhost:8080/",
          "height": 56
        },
        "outputId": "475d60b0-63b9-4eb3-84c4-1f2c06c652cf"
      },
      "source": [
        "from google.colab import files\n",
        "files.upload()"
      ],
      "execution_count": null,
      "outputs": [
        {
          "output_type": "display_data",
          "data": {
            "text/html": [
              "\n",
              "     <input type=\"file\" id=\"files-8787c576-5a9b-47a1-86c0-79253bc28c16\" name=\"files[]\" multiple disabled />\n",
              "     <output id=\"result-8787c576-5a9b-47a1-86c0-79253bc28c16\">\n",
              "      Upload widget is only available when the cell has been executed in the\n",
              "      current browser session. Please rerun this cell to enable.\n",
              "      </output>\n",
              "      <script src=\"/nbextensions/google.colab/files.js\"></script> "
            ],
            "text/plain": [
              "<IPython.core.display.HTML object>"
            ]
          },
          "metadata": {
            "tags": []
          }
        },
        {
          "output_type": "execute_result",
          "data": {
            "text/plain": [
              "{}"
            ]
          },
          "metadata": {
            "tags": []
          },
          "execution_count": 1
        }
      ]
    },
    {
      "cell_type": "code",
      "metadata": {
        "id": "0K5dmqL8XnPZ",
        "colab_type": "code",
        "colab": {
          "base_uri": "https://localhost:8080/",
          "height": 34
        },
        "outputId": "6b928e07-dbec-4449-c052-37e4f5706abe"
      },
      "source": [
        "!ls"
      ],
      "execution_count": null,
      "outputs": [
        {
          "output_type": "stream",
          "text": [
            "breat.csv  data  new_file.txt  sample_data\n"
          ],
          "name": "stdout"
        }
      ]
    },
    {
      "cell_type": "code",
      "metadata": {
        "id": "0zD4U4yJ5C6g",
        "colab_type": "code",
        "colab": {
          "base_uri": "https://localhost:8080/",
          "height": 51
        },
        "outputId": "df1076cd-f432-41e6-94d2-560b97d6621a"
      },
      "source": [
        "!mkdir data\n",
        "!mv breat.csv ./data\n",
        "!ls data"
      ],
      "execution_count": null,
      "outputs": [
        {
          "output_type": "stream",
          "text": [
            "mkdir: cannot create directory ‘data’: File exists\n",
            "breat.csv  power.xls\n"
          ],
          "name": "stdout"
        }
      ]
    },
    {
      "cell_type": "code",
      "metadata": {
        "id": "wEmWnQ8dsKmM",
        "colab_type": "code",
        "colab": {
          "base_uri": "https://localhost:8080/",
          "height": 141
        },
        "outputId": "05d9eda0-cade-4400-c87b-62f359797af8"
      },
      "source": [
        "import pandas as pd\n",
        "df = pd.DataFrame([1,2,3])\n",
        "df"
      ],
      "execution_count": null,
      "outputs": [
        {
          "output_type": "execute_result",
          "data": {
            "text/html": [
              "<div>\n",
              "<style scoped>\n",
              "    .dataframe tbody tr th:only-of-type {\n",
              "        vertical-align: middle;\n",
              "    }\n",
              "\n",
              "    .dataframe tbody tr th {\n",
              "        vertical-align: top;\n",
              "    }\n",
              "\n",
              "    .dataframe thead th {\n",
              "        text-align: right;\n",
              "    }\n",
              "</style>\n",
              "<table border=\"1\" class=\"dataframe\">\n",
              "  <thead>\n",
              "    <tr style=\"text-align: right;\">\n",
              "      <th></th>\n",
              "      <th>0</th>\n",
              "    </tr>\n",
              "  </thead>\n",
              "  <tbody>\n",
              "    <tr>\n",
              "      <th>0</th>\n",
              "      <td>1</td>\n",
              "    </tr>\n",
              "    <tr>\n",
              "      <th>1</th>\n",
              "      <td>2</td>\n",
              "    </tr>\n",
              "    <tr>\n",
              "      <th>2</th>\n",
              "      <td>3</td>\n",
              "    </tr>\n",
              "  </tbody>\n",
              "</table>\n",
              "</div>"
            ],
            "text/plain": [
              "   0\n",
              "0  1\n",
              "1  2\n",
              "2  3"
            ]
          },
          "metadata": {
            "tags": []
          },
          "execution_count": 7
        }
      ]
    },
    {
      "cell_type": "markdown",
      "metadata": {
        "id": "lN7E4Fa6trCX",
        "colab_type": "text"
      },
      "source": [
        "## 구글 드라이브에 파일을 보내는 방법"
      ]
    },
    {
      "cell_type": "markdown",
      "metadata": {
        "id": "kB7r6n2hgm1z",
        "colab_type": "text"
      },
      "source": [
        "##  구글 드라이브 연결\n",
        "- 메뉴에 연결 버튼 존재"
      ]
    },
    {
      "cell_type": "code",
      "metadata": {
        "id": "Ltkw0dpATK83",
        "colab_type": "code",
        "colab": {
          "base_uri": "https://localhost:8080/",
          "height": 126
        },
        "outputId": "cdeedb81-d9b1-424e-a143-a6d25b4fd80d"
      },
      "source": [
        "from google.colab import drive\n",
        "drive.mount('/content/drive')"
      ],
      "execution_count": null,
      "outputs": [
        {
          "output_type": "stream",
          "text": [
            "Go to this URL in a browser: https://accounts.google.com/o/oauth2/auth?client_id=947318989803-6bn6qk8qdgf4n4g3pfee6491hc0brc4i.apps.googleusercontent.com&redirect_uri=urn%3Aietf%3Awg%3Aoauth%3A2.0%3Aoob&scope=email%20https%3A%2F%2Fwww.googleapis.com%2Fauth%2Fdocs.test%20https%3A%2F%2Fwww.googleapis.com%2Fauth%2Fdrive%20https%3A%2F%2Fwww.googleapis.com%2Fauth%2Fdrive.photos.readonly%20https%3A%2F%2Fwww.googleapis.com%2Fauth%2Fpeopleapi.readonly&response_type=code\n",
            "\n",
            "Enter your authorization code:\n",
            "··········\n",
            "Mounted at /content/drive\n"
          ],
          "name": "stdout"
        }
      ]
    },
    {
      "cell_type": "code",
      "metadata": {
        "id": "I2Lz9MGCt1g2",
        "colab_type": "code",
        "colab": {
          "base_uri": "https://localhost:8080/",
          "height": 34
        },
        "outputId": "deda409d-e09c-4951-fc2a-56a201625368"
      },
      "source": [
        "!ls /gdrive/My\\ Drive/Colab\\ Notebooks/data"
      ],
      "execution_count": null,
      "outputs": [
        {
          "output_type": "stream",
          "text": [
            "accidents.txt  car_accidents.xls  new_file_accidents.txt\n"
          ],
          "name": "stdout"
        }
      ]
    },
    {
      "cell_type": "code",
      "metadata": {
        "id": "1I9JQDFwtwGo",
        "colab_type": "code",
        "colab": {}
      },
      "source": [
        "accidents.to_csv('/gdrive/My Drive/Colab Notebooks/data/new_file_accidents.txt')\n",
        "!ls /gdrive/My\\ Drive/Colab\\ Notebooks/data"
      ],
      "execution_count": null,
      "outputs": []
    },
    {
      "cell_type": "code",
      "metadata": {
        "id": "nteF9sSLshXc",
        "colab_type": "code",
        "colab": {
          "base_uri": "https://localhost:8080/",
          "height": 87
        },
        "outputId": "a30aafc3-fa98-4f46-fee1-686a275e5de0"
      },
      "source": [
        "df.to_csv('new_file.txt')\n",
        "!cat new_file.txt"
      ],
      "execution_count": null,
      "outputs": [
        {
          "output_type": "stream",
          "text": [
            ",0\n",
            "0,1\n",
            "1,2\n",
            "2,3\n"
          ],
          "name": "stdout"
        }
      ]
    },
    {
      "cell_type": "code",
      "metadata": {
        "id": "uEEHBafIs_8_",
        "colab_type": "code",
        "colab": {}
      },
      "source": [
        "files.download('new_file.txt')"
      ],
      "execution_count": null,
      "outputs": []
    },
    {
      "cell_type": "code",
      "metadata": {
        "id": "Pm2-33yk5kLk",
        "colab_type": "code",
        "colab": {}
      },
      "source": [
        "files.download('./data/power.xls')"
      ],
      "execution_count": null,
      "outputs": []
    }
  ]
}